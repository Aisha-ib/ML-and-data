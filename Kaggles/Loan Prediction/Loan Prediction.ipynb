{
 "cells": [
  {
   "cell_type": "code",
   "execution_count": 39,
   "id": "1743c0ec-45fd-48e0-adae-dad830e56499",
   "metadata": {},
   "outputs": [],
   "source": [
    "import pandas as pd \n",
    "import numpy as np\n",
    "from sklearn.experimental import enable_iterative_imputer\n",
    "from sklearn.impute import IterativeImputer  \n",
    "from sklearn.impute import KNNImputer\n",
    "from sklearn.model_selection import train_test_split\n",
    "from sklearn.linear_model import LogisticRegression \n",
    "from sklearn.metrics import accuracy_score\n",
    "\n"
   ]
  },
  {
   "cell_type": "code",
   "execution_count": 17,
   "id": "eedf99d1-3c21-480f-bb16-08e793ac2cd1",
   "metadata": {},
   "outputs": [],
   "source": [
    "train = pd.read_csv(\"/Users/iiacymm/Desktop/LoanPrediction/train_u6lujuX_CVtuZ9i.csv\")\n",
    "test = pd.read_csv(\"/Users/iiacymm/Desktop/LoanPrediction/test_Y3wMUE5_7gLdaTN.csv\")"
   ]
  },
  {
   "cell_type": "code",
   "execution_count": 18,
   "id": "83fed181-7f9f-45a0-af93-e953cfb0c280",
   "metadata": {},
   "outputs": [
    {
     "name": "stdout",
     "output_type": "stream",
     "text": [
      "<class 'pandas.core.frame.DataFrame'>\n",
      "RangeIndex: 367 entries, 0 to 366\n",
      "Data columns (total 12 columns):\n",
      " #   Column             Non-Null Count  Dtype  \n",
      "---  ------             --------------  -----  \n",
      " 0   Loan_ID            367 non-null    object \n",
      " 1   Gender             356 non-null    object \n",
      " 2   Married            367 non-null    object \n",
      " 3   Dependents         357 non-null    object \n",
      " 4   Education          367 non-null    object \n",
      " 5   Self_Employed      344 non-null    object \n",
      " 6   ApplicantIncome    367 non-null    int64  \n",
      " 7   CoapplicantIncome  367 non-null    int64  \n",
      " 8   LoanAmount         362 non-null    float64\n",
      " 9   Loan_Amount_Term   361 non-null    float64\n",
      " 10  Credit_History     338 non-null    float64\n",
      " 11  Property_Area      367 non-null    object \n",
      "dtypes: float64(3), int64(2), object(7)\n",
      "memory usage: 34.5+ KB\n"
     ]
    }
   ],
   "source": [
    "test.info()\n"
   ]
  },
  {
   "cell_type": "code",
   "execution_count": 19,
   "id": "a8668472-6f38-4e12-b934-ef9d0e03a322",
   "metadata": {},
   "outputs": [
    {
     "name": "stdout",
     "output_type": "stream",
     "text": [
      "<class 'pandas.core.frame.DataFrame'>\n",
      "RangeIndex: 614 entries, 0 to 613\n",
      "Data columns (total 13 columns):\n",
      " #   Column             Non-Null Count  Dtype  \n",
      "---  ------             --------------  -----  \n",
      " 0   Loan_ID            614 non-null    object \n",
      " 1   Gender             601 non-null    object \n",
      " 2   Married            611 non-null    object \n",
      " 3   Dependents         599 non-null    object \n",
      " 4   Education          614 non-null    object \n",
      " 5   Self_Employed      582 non-null    object \n",
      " 6   ApplicantIncome    614 non-null    int64  \n",
      " 7   CoapplicantIncome  614 non-null    float64\n",
      " 8   LoanAmount         592 non-null    float64\n",
      " 9   Loan_Amount_Term   600 non-null    float64\n",
      " 10  Credit_History     564 non-null    float64\n",
      " 11  Property_Area      614 non-null    object \n",
      " 12  Loan_Status        614 non-null    object \n",
      "dtypes: float64(4), int64(1), object(8)\n",
      "memory usage: 62.5+ KB\n"
     ]
    }
   ],
   "source": [
    "train.info()"
   ]
  },
  {
   "cell_type": "markdown",
   "id": "1ec57c59-234f-495f-8f24-2653eedc595b",
   "metadata": {},
   "source": [
    "<b> Data Wrangling<b>\n",
    "- drop: Gender , Married , Education , Self_Employed \n",
    "- Dependents: 0 \n",
    "- Loan_Amount_Term and LoanAmount : KNN Imputer\n",
    "- Credit_History : IterativeImputer"
   ]
  },
  {
   "cell_type": "code",
   "execution_count": 20,
   "id": "e83e63db-bd7c-4e0b-98fe-61eb8128aadb",
   "metadata": {},
   "outputs": [],
   "source": [
    "train.replace(' ', np.nan, inplace = True)\n",
    "test.replace(' ', np.nan, inplace = True)"
   ]
  },
  {
   "cell_type": "code",
   "execution_count": 21,
   "id": "f7e5b5fe-a22e-4095-8d53-f738b3aa072e",
   "metadata": {},
   "outputs": [],
   "source": [
    "train[\"Dependents\"] = train[\"Dependents\"].replace(np.nan ,0) \n",
    "test[\"Dependents\"] = test[\"Dependents\"].replace(np.nan ,0) "
   ]
  },
  {
   "cell_type": "code",
   "execution_count": 22,
   "id": "95dfac34-7b2c-42b1-83c9-f8c116e222e1",
   "metadata": {},
   "outputs": [],
   "source": [
    "train.drop(columns=[ \"Gender\" , \"Married\" , \"Education\" , \"Self_Employed\"] ,inplace = True)\n",
    "test.drop(columns=[ \"Gender\" , \"Married\" , \"Education\" , \"Self_Employed\"] ,inplace = True)"
   ]
  },
  {
   "cell_type": "code",
   "execution_count": 23,
   "id": "473b2fb9-ec2d-4162-a804-706a46102987",
   "metadata": {},
   "outputs": [],
   "source": [
    "impute_it = IterativeImputer()\n",
    "credit_imputed = pd.DataFrame(impute_it.fit_transform(train[[\"Credit_History\"]]), columns=[\"Credit_History\"])"
   ]
  },
  {
   "cell_type": "code",
   "execution_count": 24,
   "id": "b50964cb-4d28-4a9d-9ca0-b2bdd747c0b3",
   "metadata": {},
   "outputs": [],
   "source": [
    "impute_it = IterativeImputer()\n",
    "credit_imputed = pd.DataFrame(impute_it.fit_transform(train[[\"Credit_History\"]]), columns=[\"Credit_History\"])\n",
    "train[\"Credit_History\"] = credit_imputed"
   ]
  },
  {
   "cell_type": "code",
   "execution_count": 25,
   "id": "657fe72e-9c62-4c3c-ae0c-c62ef06ac79f",
   "metadata": {},
   "outputs": [],
   "source": [
    "impute_it = IterativeImputer()\n",
    "credit_imputed = pd.DataFrame(impute_it.fit_transform(test[[\"Credit_History\"]]), columns=[\"Credit_History\"])\n",
    "test[\"Credit_History\"] = credit_imputed"
   ]
  },
  {
   "cell_type": "code",
   "execution_count": 26,
   "id": "bc501514-860f-41b2-abb8-dfa3f6972090",
   "metadata": {},
   "outputs": [],
   "source": [
    "impute_knn = KNNImputer(n_neighbors = 3)\n",
    "lAmount_imputed = pd.DataFrame(impute_knn.fit_transform(train[[\"LoanAmount\"]]), columns=[\"LoanAmount\"])\n",
    "train[\"LoanAmount\"] = lAmount_imputed"
   ]
  },
  {
   "cell_type": "code",
   "execution_count": 27,
   "id": "6c1b3027-524b-43fe-9d27-39233a4e51a4",
   "metadata": {},
   "outputs": [],
   "source": [
    "impute_knn = KNNImputer(n_neighbors = 3)\n",
    "lAmount_imputed = pd.DataFrame(impute_knn.fit_transform(test[[\"LoanAmount\"]]), columns=[\"LoanAmount\"])\n",
    "test[\"LoanAmount\"] = lAmount_imputed"
   ]
  },
  {
   "cell_type": "code",
   "execution_count": 28,
   "id": "a2d6d30a-1cf5-4037-84c8-94dd38c6196e",
   "metadata": {},
   "outputs": [],
   "source": [
    "impute_knn = KNNImputer(n_neighbors = 3)\n",
    "lterm_imputed = pd.DataFrame(impute_knn.fit_transform(train[[\"Loan_Amount_Term\"]]), columns=[\"Loan_Amount_Term\"])\n",
    "train[\"Loan_Amount_Term\"] = lterm_imputed"
   ]
  },
  {
   "cell_type": "code",
   "execution_count": 29,
   "id": "e0639197-46b4-430b-a045-90b5a4df85ae",
   "metadata": {},
   "outputs": [],
   "source": [
    "impute_knn = KNNImputer(n_neighbors = 3)\n",
    "lterm_imputed = pd.DataFrame(impute_knn.fit_transform(test[[\"Loan_Amount_Term\"]]), columns=[\"Loan_Amount_Term\"])\n",
    "test[\"Loan_Amount_Term\"] = lterm_imputed"
   ]
  },
  {
   "cell_type": "code",
   "execution_count": 30,
   "id": "c4bc39a0-ae3c-40b7-989e-0def252bcf23",
   "metadata": {},
   "outputs": [
    {
     "name": "stdout",
     "output_type": "stream",
     "text": [
      "<class 'pandas.core.frame.DataFrame'>\n",
      "RangeIndex: 614 entries, 0 to 613\n",
      "Data columns (total 9 columns):\n",
      " #   Column             Non-Null Count  Dtype  \n",
      "---  ------             --------------  -----  \n",
      " 0   Loan_ID            614 non-null    object \n",
      " 1   Dependents         614 non-null    object \n",
      " 2   ApplicantIncome    614 non-null    int64  \n",
      " 3   CoapplicantIncome  614 non-null    float64\n",
      " 4   LoanAmount         614 non-null    float64\n",
      " 5   Loan_Amount_Term   614 non-null    float64\n",
      " 6   Credit_History     614 non-null    float64\n",
      " 7   Property_Area      614 non-null    object \n",
      " 8   Loan_Status        614 non-null    object \n",
      "dtypes: float64(4), int64(1), object(4)\n",
      "memory usage: 43.3+ KB\n",
      "<class 'pandas.core.frame.DataFrame'>\n",
      "RangeIndex: 367 entries, 0 to 366\n",
      "Data columns (total 8 columns):\n",
      " #   Column             Non-Null Count  Dtype  \n",
      "---  ------             --------------  -----  \n",
      " 0   Loan_ID            367 non-null    object \n",
      " 1   Dependents         367 non-null    object \n",
      " 2   ApplicantIncome    367 non-null    int64  \n",
      " 3   CoapplicantIncome  367 non-null    int64  \n",
      " 4   LoanAmount         367 non-null    float64\n",
      " 5   Loan_Amount_Term   367 non-null    float64\n",
      " 6   Credit_History     367 non-null    float64\n",
      " 7   Property_Area      367 non-null    object \n",
      "dtypes: float64(3), int64(2), object(3)\n",
      "memory usage: 23.1+ KB\n"
     ]
    }
   ],
   "source": [
    "train.info()\n",
    "test.info()"
   ]
  },
  {
   "cell_type": "code",
   "execution_count": 42,
   "id": "38127e48-c54c-4070-885b-608ed0b68dfb",
   "metadata": {},
   "outputs": [],
   "source": [
    "X = train[['ApplicantIncome','CoapplicantIncome','LoanAmount','Loan_Amount_Term','Credit_History']]\n",
    "Y = train['Loan_Status']\n",
    "X_train, X_val, Y_train, Y_val = train_test_split(X, Y, test_size=0.2, random_state=42)\n",
    "lm = LogisticRegression(max_iter=100, random_state=0).fit(X_train, Y_train)"
   ]
  },
  {
   "cell_type": "code",
   "execution_count": 44,
   "id": "0179f059-75fb-43b6-ac0e-3bcd20247e92",
   "metadata": {},
   "outputs": [
    {
     "name": "stdout",
     "output_type": "stream",
     "text": [
      "Model Evaluation Metrics:\n",
      "Accuracy: 0.7886178861788617\n"
     ]
    }
   ],
   "source": [
    "predictions = lm.predict(X_val)\n",
    "ac = accuracy_score(Y_val,predictions)\n",
    "print( \"Model Evaluation Metrics:\")\n",
    "print(\"Accuracy:\",ac)"
   ]
  },
  {
   "cell_type": "code",
   "execution_count": null,
   "id": "f80aa726-87fe-4d69-b947-e615a5974c49",
   "metadata": {},
   "outputs": [],
   "source": []
  }
 ],
 "metadata": {
  "kernelspec": {
   "display_name": "Python 3 (ipykernel)",
   "language": "python",
   "name": "python3"
  },
  "language_info": {
   "codemirror_mode": {
    "name": "ipython",
    "version": 3
   },
   "file_extension": ".py",
   "mimetype": "text/x-python",
   "name": "python",
   "nbconvert_exporter": "python",
   "pygments_lexer": "ipython3",
   "version": "3.13.2"
  }
 },
 "nbformat": 4,
 "nbformat_minor": 5
}
