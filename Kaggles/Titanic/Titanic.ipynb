{
 "cells": [
  {
   "cell_type": "code",
   "execution_count": 1,
   "id": "8ce61f5d-92a2-4024-bf19-63babdc1d066",
   "metadata": {
    "scrolled": true
   },
   "outputs": [],
   "source": [
    "import pandas as pd\n",
    "import numpy as np\n",
    "import seaborn as sns\n",
    "import matplotlib.pyplot as plt\n",
    "from sklearn import preprocessing  \n",
    "from sklearn.svm import SVC\n",
    "from sklearn.linear_model import LogisticRegression \n",
    "from sklearn.metrics import accuracy_score, precision_score , recall_score , f1_score , confusion_matrix , ConfusionMatrixDisplay\n",
    "from sklearn.model_selection import train_test_split \n",
    "from sklearn.preprocessing import StandardScaler\n",
    "from sklearn.ensemble import RandomForestClassifier\n",
    "\n",
    "\n"
   ]
  },
  {
   "cell_type": "code",
   "execution_count": 2,
   "id": "84d0c04b-cfac-4df9-bfa7-6474c00504d8",
   "metadata": {},
   "outputs": [],
   "source": [
    "train = pd.read_csv(\"train.csv\")\n",
    "test = pd.read_csv(\"test.csv\")\n",
    "test_ids = test[\"PassengerId\"]"
   ]
  },
  {
   "cell_type": "code",
   "execution_count": 3,
   "id": "7c87c761-9736-48e1-8ab8-b032e19b888b",
   "metadata": {},
   "outputs": [
    {
     "name": "stdout",
     "output_type": "stream",
     "text": [
      "<class 'pandas.core.frame.DataFrame'>\n",
      "RangeIndex: 891 entries, 0 to 890\n",
      "Data columns (total 12 columns):\n",
      " #   Column       Non-Null Count  Dtype  \n",
      "---  ------       --------------  -----  \n",
      " 0   PassengerId  891 non-null    int64  \n",
      " 1   Survived     891 non-null    int64  \n",
      " 2   Pclass       891 non-null    int64  \n",
      " 3   Name         891 non-null    object \n",
      " 4   Sex          891 non-null    object \n",
      " 5   Age          714 non-null    float64\n",
      " 6   SibSp        891 non-null    int64  \n",
      " 7   Parch        891 non-null    int64  \n",
      " 8   Ticket       891 non-null    object \n",
      " 9   Fare         891 non-null    float64\n",
      " 10  Cabin        204 non-null    object \n",
      " 11  Embarked     889 non-null    object \n",
      "dtypes: float64(2), int64(5), object(5)\n",
      "memory usage: 83.7+ KB\n"
     ]
    }
   ],
   "source": [
    "train.info()"
   ]
  },
  {
   "cell_type": "markdown",
   "id": "48e6232f-5eee-43df-bd62-4b9e8737b399",
   "metadata": {},
   "source": [
    "<b> Data Wrangling<b>\n",
    "\n",
    "- Age: replace missing values with the mean.\n",
    "- Embarked: replace missing values with the most frequent value.\n",
    "- Drop Cabin,Name,Ticket\n"
   ]
  },
  {
   "cell_type": "code",
   "execution_count": 4,
   "id": "8122d525-d52e-42a6-8827-d71eb5e692a9",
   "metadata": {},
   "outputs": [],
   "source": [
    "train.replace(' ', np.nan, inplace = True)\n",
    "test.replace(' ', np.nan, inplace = True)"
   ]
  },
  {
   "cell_type": "code",
   "execution_count": 5,
   "id": "02976259-a4be-4206-8793-ac9dca3c9012",
   "metadata": {},
   "outputs": [],
   "source": [
    "train.drop(columns=[\"Cabin\", \"Name\", \"Ticket\",\"PassengerId\"], inplace=True)\n",
    "test.drop(columns=[\"Cabin\", \"Name\", \"Ticket\",\"PassengerId\"], inplace=True)"
   ]
  },
  {
   "cell_type": "code",
   "execution_count": 6,
   "id": "2fce779e-95d4-4220-95b1-fc902273c6f3",
   "metadata": {},
   "outputs": [],
   "source": [
    "mean_age = train['Age'].astype('float').mean(axis=0)\n",
    "train[\"Age\"] = train[\"Age\"].replace(np.nan, mean_age)\n",
    "\n",
    "mean_age = test['Age'].astype('float').mean(axis=0)\n",
    "test[\"Age\"] = test[\"Age\"].replace(np.nan, mean_age)"
   ]
  },
  {
   "cell_type": "code",
   "execution_count": 7,
   "id": "44aa2cce-8e91-437a-a83e-655dabb8b8e9",
   "metadata": {},
   "outputs": [],
   "source": [
    "if train[\"Embarked\"].dropna().empty:\n",
    "    Em = \"U\"  # Default value if column is empty\n",
    "else:\n",
    "    Em = train[\"Embarked\"].value_counts().idxmax()\n",
    "\n",
    "train[\"Embarked\"] = train[\"Embarked\"].fillna(Em)\n",
    "\n",
    "if test[\"Embarked\"].dropna().empty:\n",
    "    Em = \"U\"  # Default value if column is empty\n",
    "else:\n",
    "    Em = test[\"Embarked\"].value_counts().idxmax()\n",
    "\n",
    "test[\"Embarked\"] = test[\"Embarked\"].fillna(Em)\n"
   ]
  },
  {
   "cell_type": "code",
   "execution_count": 8,
   "id": "a7fd54c4-44ca-4311-9f22-18ff18c61d76",
   "metadata": {},
   "outputs": [],
   "source": [
    "def clean(data): \n",
    "    cols = [\"SibSp\", \"Parch\", \"Fare\"] \n",
    "    for col in cols:\n",
    "        data[col] = data[col].fillna(data[col].median())  # Fill missing values with median\n",
    "    return data\n",
    "\n",
    "train = clean(train)\n",
    "test  = clean(test)\n"
   ]
  },
  {
   "cell_type": "code",
   "execution_count": 9,
   "id": "1a526395-5977-44b9-9468-10ba0442fb2f",
   "metadata": {},
   "outputs": [
    {
     "name": "stdout",
     "output_type": "stream",
     "text": [
      "<class 'pandas.core.frame.DataFrame'>\n",
      "RangeIndex: 891 entries, 0 to 890\n",
      "Data columns (total 8 columns):\n",
      " #   Column    Non-Null Count  Dtype  \n",
      "---  ------    --------------  -----  \n",
      " 0   Survived  891 non-null    int64  \n",
      " 1   Pclass    891 non-null    int64  \n",
      " 2   Sex       891 non-null    object \n",
      " 3   Age       891 non-null    float64\n",
      " 4   SibSp     891 non-null    int64  \n",
      " 5   Parch     891 non-null    int64  \n",
      " 6   Fare      891 non-null    float64\n",
      " 7   Embarked  891 non-null    object \n",
      "dtypes: float64(2), int64(4), object(2)\n",
      "memory usage: 55.8+ KB\n",
      "<class 'pandas.core.frame.DataFrame'>\n",
      "RangeIndex: 418 entries, 0 to 417\n",
      "Data columns (total 7 columns):\n",
      " #   Column    Non-Null Count  Dtype  \n",
      "---  ------    --------------  -----  \n",
      " 0   Pclass    418 non-null    int64  \n",
      " 1   Sex       418 non-null    object \n",
      " 2   Age       418 non-null    float64\n",
      " 3   SibSp     418 non-null    int64  \n",
      " 4   Parch     418 non-null    int64  \n",
      " 5   Fare      418 non-null    float64\n",
      " 6   Embarked  418 non-null    object \n",
      "dtypes: float64(2), int64(3), object(2)\n",
      "memory usage: 23.0+ KB\n"
     ]
    }
   ],
   "source": [
    "train.info()\n",
    "test.info()"
   ]
  },
  {
   "cell_type": "code",
   "execution_count": 10,
   "id": "f26680b2-337c-4816-95ae-17b2a443efb9",
   "metadata": {},
   "outputs": [
    {
     "data": {
      "text/html": [
       "<div>\n",
       "<style scoped>\n",
       "    .dataframe tbody tr th:only-of-type {\n",
       "        vertical-align: middle;\n",
       "    }\n",
       "\n",
       "    .dataframe tbody tr th {\n",
       "        vertical-align: top;\n",
       "    }\n",
       "\n",
       "    .dataframe thead th {\n",
       "        text-align: right;\n",
       "    }\n",
       "</style>\n",
       "<table border=\"1\" class=\"dataframe\">\n",
       "  <thead>\n",
       "    <tr style=\"text-align: right;\">\n",
       "      <th></th>\n",
       "      <th>Survived</th>\n",
       "      <th>Pclass</th>\n",
       "      <th>Sex</th>\n",
       "      <th>Age</th>\n",
       "      <th>SibSp</th>\n",
       "      <th>Parch</th>\n",
       "      <th>Fare</th>\n",
       "      <th>Embarked</th>\n",
       "    </tr>\n",
       "  </thead>\n",
       "  <tbody>\n",
       "    <tr>\n",
       "      <th>0</th>\n",
       "      <td>0</td>\n",
       "      <td>3</td>\n",
       "      <td>male</td>\n",
       "      <td>22.0</td>\n",
       "      <td>1</td>\n",
       "      <td>0</td>\n",
       "      <td>7.2500</td>\n",
       "      <td>S</td>\n",
       "    </tr>\n",
       "    <tr>\n",
       "      <th>1</th>\n",
       "      <td>1</td>\n",
       "      <td>1</td>\n",
       "      <td>female</td>\n",
       "      <td>38.0</td>\n",
       "      <td>1</td>\n",
       "      <td>0</td>\n",
       "      <td>71.2833</td>\n",
       "      <td>C</td>\n",
       "    </tr>\n",
       "    <tr>\n",
       "      <th>2</th>\n",
       "      <td>1</td>\n",
       "      <td>3</td>\n",
       "      <td>female</td>\n",
       "      <td>26.0</td>\n",
       "      <td>0</td>\n",
       "      <td>0</td>\n",
       "      <td>7.9250</td>\n",
       "      <td>S</td>\n",
       "    </tr>\n",
       "    <tr>\n",
       "      <th>3</th>\n",
       "      <td>1</td>\n",
       "      <td>1</td>\n",
       "      <td>female</td>\n",
       "      <td>35.0</td>\n",
       "      <td>1</td>\n",
       "      <td>0</td>\n",
       "      <td>53.1000</td>\n",
       "      <td>S</td>\n",
       "    </tr>\n",
       "    <tr>\n",
       "      <th>4</th>\n",
       "      <td>0</td>\n",
       "      <td>3</td>\n",
       "      <td>male</td>\n",
       "      <td>35.0</td>\n",
       "      <td>0</td>\n",
       "      <td>0</td>\n",
       "      <td>8.0500</td>\n",
       "      <td>S</td>\n",
       "    </tr>\n",
       "  </tbody>\n",
       "</table>\n",
       "</div>"
      ],
      "text/plain": [
       "   Survived  Pclass     Sex   Age  SibSp  Parch     Fare Embarked\n",
       "0         0       3    male  22.0      1      0   7.2500        S\n",
       "1         1       1  female  38.0      1      0  71.2833        C\n",
       "2         1       3  female  26.0      0      0   7.9250        S\n",
       "3         1       1  female  35.0      1      0  53.1000        S\n",
       "4         0       3    male  35.0      0      0   8.0500        S"
      ]
     },
     "execution_count": 10,
     "metadata": {},
     "output_type": "execute_result"
    }
   ],
   "source": [
    "train.head()"
   ]
  },
  {
   "cell_type": "markdown",
   "id": "0042c40e-68b1-4e6c-9206-4876a28987dd",
   "metadata": {},
   "source": [
    "<b>Encoding<b>\n",
    "- Convert categorical variables (\"Sex\" and \"Embarked\") in the train DataFrame into numerical values."
   ]
  },
  {
   "cell_type": "code",
   "execution_count": 11,
   "id": "ea2dacd5-d46b-4c6b-8c0b-771a6da1e67f",
   "metadata": {},
   "outputs": [
    {
     "data": {
      "text/html": [
       "<div>\n",
       "<style scoped>\n",
       "    .dataframe tbody tr th:only-of-type {\n",
       "        vertical-align: middle;\n",
       "    }\n",
       "\n",
       "    .dataframe tbody tr th {\n",
       "        vertical-align: top;\n",
       "    }\n",
       "\n",
       "    .dataframe thead th {\n",
       "        text-align: right;\n",
       "    }\n",
       "</style>\n",
       "<table border=\"1\" class=\"dataframe\">\n",
       "  <thead>\n",
       "    <tr style=\"text-align: right;\">\n",
       "      <th></th>\n",
       "      <th>Survived</th>\n",
       "      <th>Pclass</th>\n",
       "      <th>Sex</th>\n",
       "      <th>Age</th>\n",
       "      <th>SibSp</th>\n",
       "      <th>Parch</th>\n",
       "      <th>Fare</th>\n",
       "      <th>Embarked</th>\n",
       "    </tr>\n",
       "  </thead>\n",
       "  <tbody>\n",
       "    <tr>\n",
       "      <th>0</th>\n",
       "      <td>0</td>\n",
       "      <td>3</td>\n",
       "      <td>1</td>\n",
       "      <td>22.0</td>\n",
       "      <td>1</td>\n",
       "      <td>0</td>\n",
       "      <td>7.2500</td>\n",
       "      <td>2</td>\n",
       "    </tr>\n",
       "    <tr>\n",
       "      <th>1</th>\n",
       "      <td>1</td>\n",
       "      <td>1</td>\n",
       "      <td>0</td>\n",
       "      <td>38.0</td>\n",
       "      <td>1</td>\n",
       "      <td>0</td>\n",
       "      <td>71.2833</td>\n",
       "      <td>0</td>\n",
       "    </tr>\n",
       "    <tr>\n",
       "      <th>2</th>\n",
       "      <td>1</td>\n",
       "      <td>3</td>\n",
       "      <td>0</td>\n",
       "      <td>26.0</td>\n",
       "      <td>0</td>\n",
       "      <td>0</td>\n",
       "      <td>7.9250</td>\n",
       "      <td>2</td>\n",
       "    </tr>\n",
       "    <tr>\n",
       "      <th>3</th>\n",
       "      <td>1</td>\n",
       "      <td>1</td>\n",
       "      <td>0</td>\n",
       "      <td>35.0</td>\n",
       "      <td>1</td>\n",
       "      <td>0</td>\n",
       "      <td>53.1000</td>\n",
       "      <td>2</td>\n",
       "    </tr>\n",
       "    <tr>\n",
       "      <th>4</th>\n",
       "      <td>0</td>\n",
       "      <td>3</td>\n",
       "      <td>1</td>\n",
       "      <td>35.0</td>\n",
       "      <td>0</td>\n",
       "      <td>0</td>\n",
       "      <td>8.0500</td>\n",
       "      <td>2</td>\n",
       "    </tr>\n",
       "  </tbody>\n",
       "</table>\n",
       "</div>"
      ],
      "text/plain": [
       "   Survived  Pclass  Sex   Age  SibSp  Parch     Fare  Embarked\n",
       "0         0       3    1  22.0      1      0   7.2500         2\n",
       "1         1       1    0  38.0      1      0  71.2833         0\n",
       "2         1       3    0  26.0      0      0   7.9250         2\n",
       "3         1       1    0  35.0      1      0  53.1000         2\n",
       "4         0       3    1  35.0      0      0   8.0500         2"
      ]
     },
     "execution_count": 11,
     "metadata": {},
     "output_type": "execute_result"
    }
   ],
   "source": [
    "from sklearn import preprocessing  \n",
    "le = preprocessing.LabelEncoder()\n",
    "train[\"Sex\"] = le.fit_transform(train[\"Sex\"])\n",
    "train[\"Embarked\"] = le.fit_transform(train[\"Embarked\"])\n",
    "train.head()"
   ]
  },
  {
   "cell_type": "code",
   "execution_count": 12,
   "id": "b4f7feaa-98b2-4df0-bc4b-34bc0bdab8c5",
   "metadata": {},
   "outputs": [],
   "source": [
    "le = preprocessing.LabelEncoder()\n",
    "test[\"Sex\"] = le.fit_transform(test[\"Sex\"])\n",
    "test[\"Embarked\"] = le.fit_transform(test[\"Embarked\"])"
   ]
  },
  {
   "cell_type": "code",
   "execution_count": 13,
   "id": "ad42954d-d7a0-4777-9b84-ce5e5da9a0cc",
   "metadata": {},
   "outputs": [
    {
     "name": "stdout",
     "output_type": "stream",
     "text": [
      "          Survived    Pclass       Sex       Age     SibSp     Parch  \\\n",
      "Survived  1.000000 -0.338481 -0.543351 -0.069809 -0.035322  0.081629   \n",
      "Pclass   -0.338481  1.000000  0.131900 -0.331339  0.083081  0.018443   \n",
      "Sex      -0.543351  0.131900  1.000000  0.084153 -0.114631 -0.245489   \n",
      "Age      -0.069809 -0.331339  0.084153  1.000000 -0.232625 -0.179191   \n",
      "SibSp    -0.035322  0.083081 -0.114631 -0.232625  1.000000  0.414838   \n",
      "Parch     0.081629  0.018443 -0.245489 -0.179191  0.414838  1.000000   \n",
      "Fare      0.257307 -0.549500 -0.182333  0.091566  0.159651  0.216225   \n",
      "Embarked -0.167675  0.162098  0.108262 -0.026749  0.068230  0.039798   \n",
      "\n",
      "              Fare  Embarked  \n",
      "Survived  0.257307 -0.167675  \n",
      "Pclass   -0.549500  0.162098  \n",
      "Sex      -0.182333  0.108262  \n",
      "Age       0.091566 -0.026749  \n",
      "SibSp     0.159651  0.068230  \n",
      "Parch     0.216225  0.039798  \n",
      "Fare      1.000000 -0.224719  \n",
      "Embarked -0.224719  1.000000  \n"
     ]
    }
   ],
   "source": [
    "print(train.corr()) #correlation matrix for the dataset"
   ]
  },
  {
   "cell_type": "markdown",
   "id": "06b50239-86d0-4f48-974d-733e0211da93",
   "metadata": {},
   "source": [
    "<b>Feature Engineering<b>\n",
    "\n",
    "Create a new feature (FamilySize) by combining (SibSp) and (Parch) , plus 1 for the passenger themselves\n"
   ]
  },
  {
   "cell_type": "code",
   "execution_count": 14,
   "id": "8905778d-3729-4517-aa5c-eef668e7e6fc",
   "metadata": {},
   "outputs": [],
   "source": [
    "train['FamilySize'] = train['SibSp'] + train['Parch'] + 1\n",
    "train['IsAlone'] = 0  #new feature (IsAlone) as 0 (meaning not alone)\n",
    "train.loc[train['FamilySize'] == 1, 'IsAlone'] = 1 #if the passenger has no family (FamilySize = 1) so the passenger alone \n",
    "\n",
    "test['FamilySize'] = test['SibSp'] + test['Parch'] + 1\n",
    "test['IsAlone'] = 0\n",
    "test.loc[test['FamilySize'] == 1, 'IsAlone'] = 1"
   ]
  },
  {
   "cell_type": "code",
   "execution_count": 15,
   "id": "acaabbee-519b-4dff-a9ac-eb9ff8cf1688",
   "metadata": {},
   "outputs": [
    {
     "name": "stdout",
     "output_type": "stream",
     "text": [
      "<class 'pandas.core.frame.DataFrame'>\n",
      "RangeIndex: 891 entries, 0 to 890\n",
      "Data columns (total 10 columns):\n",
      " #   Column      Non-Null Count  Dtype  \n",
      "---  ------      --------------  -----  \n",
      " 0   Survived    891 non-null    int64  \n",
      " 1   Pclass      891 non-null    int64  \n",
      " 2   Sex         891 non-null    int64  \n",
      " 3   Age         891 non-null    float64\n",
      " 4   SibSp       891 non-null    int64  \n",
      " 5   Parch       891 non-null    int64  \n",
      " 6   Fare        891 non-null    float64\n",
      " 7   Embarked    891 non-null    int64  \n",
      " 8   FamilySize  891 non-null    int64  \n",
      " 9   IsAlone     891 non-null    int64  \n",
      "dtypes: float64(2), int64(8)\n",
      "memory usage: 69.7 KB\n",
      "<class 'pandas.core.frame.DataFrame'>\n",
      "RangeIndex: 418 entries, 0 to 417\n",
      "Data columns (total 9 columns):\n",
      " #   Column      Non-Null Count  Dtype  \n",
      "---  ------      --------------  -----  \n",
      " 0   Pclass      418 non-null    int64  \n",
      " 1   Sex         418 non-null    int64  \n",
      " 2   Age         418 non-null    float64\n",
      " 3   SibSp       418 non-null    int64  \n",
      " 4   Parch       418 non-null    int64  \n",
      " 5   Fare        418 non-null    float64\n",
      " 6   Embarked    418 non-null    int64  \n",
      " 7   FamilySize  418 non-null    int64  \n",
      " 8   IsAlone     418 non-null    int64  \n",
      "dtypes: float64(2), int64(7)\n",
      "memory usage: 29.5 KB\n"
     ]
    },
    {
     "data": {
      "text/html": [
       "<div>\n",
       "<style scoped>\n",
       "    .dataframe tbody tr th:only-of-type {\n",
       "        vertical-align: middle;\n",
       "    }\n",
       "\n",
       "    .dataframe tbody tr th {\n",
       "        vertical-align: top;\n",
       "    }\n",
       "\n",
       "    .dataframe thead th {\n",
       "        text-align: right;\n",
       "    }\n",
       "</style>\n",
       "<table border=\"1\" class=\"dataframe\">\n",
       "  <thead>\n",
       "    <tr style=\"text-align: right;\">\n",
       "      <th></th>\n",
       "      <th>Survived</th>\n",
       "      <th>Pclass</th>\n",
       "      <th>Sex</th>\n",
       "      <th>Age</th>\n",
       "      <th>SibSp</th>\n",
       "      <th>Parch</th>\n",
       "      <th>Fare</th>\n",
       "      <th>Embarked</th>\n",
       "      <th>FamilySize</th>\n",
       "      <th>IsAlone</th>\n",
       "    </tr>\n",
       "  </thead>\n",
       "  <tbody>\n",
       "    <tr>\n",
       "      <th>0</th>\n",
       "      <td>0</td>\n",
       "      <td>3</td>\n",
       "      <td>1</td>\n",
       "      <td>22.0</td>\n",
       "      <td>1</td>\n",
       "      <td>0</td>\n",
       "      <td>7.2500</td>\n",
       "      <td>2</td>\n",
       "      <td>2</td>\n",
       "      <td>0</td>\n",
       "    </tr>\n",
       "    <tr>\n",
       "      <th>1</th>\n",
       "      <td>1</td>\n",
       "      <td>1</td>\n",
       "      <td>0</td>\n",
       "      <td>38.0</td>\n",
       "      <td>1</td>\n",
       "      <td>0</td>\n",
       "      <td>71.2833</td>\n",
       "      <td>0</td>\n",
       "      <td>2</td>\n",
       "      <td>0</td>\n",
       "    </tr>\n",
       "    <tr>\n",
       "      <th>2</th>\n",
       "      <td>1</td>\n",
       "      <td>3</td>\n",
       "      <td>0</td>\n",
       "      <td>26.0</td>\n",
       "      <td>0</td>\n",
       "      <td>0</td>\n",
       "      <td>7.9250</td>\n",
       "      <td>2</td>\n",
       "      <td>1</td>\n",
       "      <td>1</td>\n",
       "    </tr>\n",
       "    <tr>\n",
       "      <th>3</th>\n",
       "      <td>1</td>\n",
       "      <td>1</td>\n",
       "      <td>0</td>\n",
       "      <td>35.0</td>\n",
       "      <td>1</td>\n",
       "      <td>0</td>\n",
       "      <td>53.1000</td>\n",
       "      <td>2</td>\n",
       "      <td>2</td>\n",
       "      <td>0</td>\n",
       "    </tr>\n",
       "    <tr>\n",
       "      <th>4</th>\n",
       "      <td>0</td>\n",
       "      <td>3</td>\n",
       "      <td>1</td>\n",
       "      <td>35.0</td>\n",
       "      <td>0</td>\n",
       "      <td>0</td>\n",
       "      <td>8.0500</td>\n",
       "      <td>2</td>\n",
       "      <td>1</td>\n",
       "      <td>1</td>\n",
       "    </tr>\n",
       "  </tbody>\n",
       "</table>\n",
       "</div>"
      ],
      "text/plain": [
       "   Survived  Pclass  Sex   Age  SibSp  Parch     Fare  Embarked  FamilySize  \\\n",
       "0         0       3    1  22.0      1      0   7.2500         2           2   \n",
       "1         1       1    0  38.0      1      0  71.2833         0           2   \n",
       "2         1       3    0  26.0      0      0   7.9250         2           1   \n",
       "3         1       1    0  35.0      1      0  53.1000         2           2   \n",
       "4         0       3    1  35.0      0      0   8.0500         2           1   \n",
       "\n",
       "   IsAlone  \n",
       "0        0  \n",
       "1        0  \n",
       "2        1  \n",
       "3        0  \n",
       "4        1  "
      ]
     },
     "execution_count": 15,
     "metadata": {},
     "output_type": "execute_result"
    }
   ],
   "source": [
    "train.info()\n",
    "test.info()\n",
    "train.head()"
   ]
  },
  {
   "cell_type": "markdown",
   "id": "1d3ccdb9-b8af-47e8-9d31-e30b97c7e9b6",
   "metadata": {},
   "source": [
    "<b> MODEL TRAINING  <b>"
   ]
  },
  {
   "cell_type": "code",
   "execution_count": 16,
   "id": "a80e5254-e5f6-44fc-a30b-0431cf8d5298",
   "metadata": {},
   "outputs": [],
   "source": [
    "X = train[['Parch','Sex','Age','SibSp','Pclass','Fare','Embarked','IsAlone','FamilySize']]\n",
    "Y = train['Survived']\n",
    "X_train, X_val, Y_train, Y_val = train_test_split(X, Y, test_size=0.2, random_state=42)"
   ]
  },
  {
   "cell_type": "markdown",
   "id": "472d3a7f-ec13-484b-832f-a8eb32cc5c1d",
   "metadata": {},
   "source": [
    "<b> Model 1:Logistic regression model<b>\n",
    "- Predict the Survived value,  by using all the attribute of the dataset."
   ]
  },
  {
   "cell_type": "code",
   "execution_count": 17,
   "id": "48cdb565-6362-4fec-88e6-929fec519473",
   "metadata": {},
   "outputs": [
    {
     "data": {
      "text/plain": [
       "0.8019662921348315"
      ]
     },
     "execution_count": 17,
     "metadata": {},
     "output_type": "execute_result"
    }
   ],
   "source": [
    "lm = LogisticRegression(max_iter=1000, random_state=0).fit(X_train, Y_train)\n",
    "lm.fit(X_train, Y_train)\n",
    "lm.score(X_train, Y_train)"
   ]
  },
  {
   "cell_type": "markdown",
   "id": "d7827b29-9f93-43cc-8457-9ae2f08daced",
   "metadata": {},
   "source": [
    "<b> Model 2: Random Forest <b>"
   ]
  },
  {
   "cell_type": "code",
   "execution_count": 18,
   "id": "3d33290c-1fef-4683-82af-81c7f1c101c3",
   "metadata": {},
   "outputs": [
    {
     "data": {
      "text/plain": [
       "0.9803370786516854"
      ]
     },
     "execution_count": 18,
     "metadata": {},
     "output_type": "execute_result"
    }
   ],
   "source": [
    "rf = RandomForestClassifier(n_estimators=600, random_state=100)\n",
    "rf.fit(X_train, Y_train)\n",
    "rf.score(X_train, Y_train)"
   ]
  },
  {
   "cell_type": "markdown",
   "id": "27df2a7a-2ad5-41bc-bd18-b664856e27c9",
   "metadata": {},
   "source": [
    "<b>Model 3: SVC (Support Vector Classification)<b>"
   ]
  },
  {
   "cell_type": "code",
   "execution_count": 19,
   "id": "dd9d0143-f02b-4337-a7de-43997caa807a",
   "metadata": {},
   "outputs": [
    {
     "data": {
      "text/plain": [
       "0.8314606741573034"
      ]
     },
     "execution_count": 19,
     "metadata": {},
     "output_type": "execute_result"
    }
   ],
   "source": [
    "SVC = SVC(kernel='rbf', C=600, random_state=100)\n",
    "SVC.fit(X_train, Y_train)\n",
    "SVC.score(X_train, Y_train)"
   ]
  },
  {
   "cell_type": "markdown",
   "id": "a6193173-366f-4bfc-9f81-d5ad64e4ee43",
   "metadata": {},
   "source": [
    "<b> Model Evaluation Metrics & Confusion matrix <b>"
   ]
  },
  {
   "cell_type": "markdown",
   "id": "6414b98c-4edc-4039-b2b5-c3b7d41a9c9d",
   "metadata": {},
   "source": [
    "for model 1:"
   ]
  },
  {
   "cell_type": "code",
   "execution_count": 20,
   "id": "f098ab00-7e81-49ca-b863-aa2442d1d707",
   "metadata": {},
   "outputs": [
    {
     "name": "stdout",
     "output_type": "stream",
     "text": [
      "Model Evaluation Metrics:\n",
      "Accuracy: 0.7988826815642458\n",
      "Precision: 0.7714285714285715\n",
      "Recall: 0.7297297297297297\n",
      "F1 Score: 0.75\n"
     ]
    }
   ],
   "source": [
    "predictions_1 = lm.predict(X_val)\n",
    "ac = accuracy_score(Y_val,predictions_1)\n",
    "pr = precision_score(Y_val, predictions_1)\n",
    "re = recall_score(Y_val, predictions_1)\n",
    "f1 = f1_score(Y_val, predictions_1)\n",
    "print( \"Model Evaluation Metrics:\")\n",
    "print(\"Accuracy:\",ac)\n",
    "print(\"Precision:\",pr)\n",
    "print(\"Recall:\",re)\n",
    "print(\"F1 Score:\",f1)"
   ]
  },
  {
   "cell_type": "code",
   "execution_count": 21,
   "id": "54f06c15-f962-469f-bb73-066ba623b679",
   "metadata": {},
   "outputs": [
    {
     "data": {
      "image/png": "[encoded data removed]",
      "text/plain": [
       "<Figure size 640x480 with 2 Axes>"
      ]
     },
     "metadata": {},
     "output_type": "display_data"
    }
   ],
   "source": [
    "cm_1 = confusion_matrix(Y_val, predictions_1)\n",
    "disp = ConfusionMatrixDisplay(confusion_matrix=cm_1, display_labels=[\"Not Survived\", \"Survived\"])\n",
    "disp.plot(cmap=\"Blues\")  \n",
    "plt.title(\"Confusion Matrix\")\n",
    "plt.show()"
   ]
  },
  {
   "cell_type": "markdown",
   "id": "0f12e143-43c6-4670-9b4e-cdaa92dfe377",
   "metadata": {},
   "source": [
    "for model 2:"
   ]
  },
  {
   "cell_type": "code",
   "execution_count": 22,
   "id": "666410e1-f906-4b07-b975-2f3fbe2b3f9f",
   "metadata": {},
   "outputs": [
    {
     "name": "stdout",
     "output_type": "stream",
     "text": [
      "Model Evaluation Metrics:\n",
      "Accuracy: 0.8212290502793296\n",
      "Precision: 0.8\n",
      "Recall: 0.7567567567567568\n",
      "F1 Score: 0.7777777777777778\n"
     ]
    }
   ],
   "source": [
    "predictions_2 = rf.fit(X_train, Y_train).predict(X_val)\n",
    "ac = accuracy_score(Y_val, predictions_2)\n",
    "prc = precision_score(Y_val, predictions_2)\n",
    "re = recall_score(Y_val, predictions_2)\n",
    "f1 = f1_score(Y_val, predictions_2)\n",
    "print( \"Model Evaluation Metrics:\")\n",
    "print(\"Accuracy:\",ac)\n",
    "print(\"Precision:\",prc)\n",
    "print(\"Recall:\",re)\n",
    "print(\"F1 Score:\",f1)"
   ]
  },
  {
   "cell_type": "code",
   "execution_count": 23,
   "id": "8183283c-401a-489e-bfb9-6696d0af1eb0",
   "metadata": {
    "scrolled": true
   },
   "outputs": [
    {
     "data": {
      "image/png": "[encoded data removed]",
      "text/plain": [
       "<Figure size 640x480 with 2 Axes>"
      ]
     },
     "metadata": {},
     "output_type": "display_data"
    }
   ],
   "source": [
    "cm_2 = confusion_matrix(Y_val, predictions_2)\n",
    "disp = ConfusionMatrixDisplay(confusion_matrix=cm_2, display_labels=[\"Not Survived\", \"Survived\"])\n",
    "disp.plot(cmap=\"Reds\")  \n",
    "plt.title(\"Confu£ion Matrix\")\n",
    "plt.show()"
   ]
  },
  {
   "cell_type": "code",
   "execution_count": 24,
   "id": "f9c339fc-0d2f-4807-bcc3-0692f6d213b8",
   "metadata": {},
   "outputs": [],
   "source": [
    "test = test[X_train.columns]  # Ensure same column order\n",
    "predictions_1test = lm.predict(test) \n",
    "predictions_2test = rf.predict(test)     "
   ]
  },
  {
   "cell_type": "code",
   "execution_count": 25,
   "id": "d34c049a-9173-4ccd-ad58-69e40eb0c46a",
   "metadata": {},
   "outputs": [],
   "source": [
    "df1 = pd.DataFrame({\"PassengerId\": test_ids.values,\n",
    "                   \"Survived\": predictions_1test,\n",
    "                  })\n",
    "df2 = pd.DataFrame({\"PassengerId\": test_ids.values,\n",
    "                   \"Survived\": predictions_2test,\n",
    "                  })\n",
    "df1.to_csv('model1.csv', index=False)\n",
    "df2.to_csv('model2.csv', index=False)\n",
    "\n",
    "                   "
   ]
  }
 ],
 "metadata": {
  "kernelspec": {
   "display_name": "Python 3 (ipykernel)",
   "language": "python",
   "name": "python3"
  },
  "language_info": {
   "codemirror_mode": {
    "name": "ipython",
    "version": 3
   },
   "file_extension": ".py",
   "mimetype": "text/x-python",
   "name": "python",
   "nbconvert_exporter": "python",
   "pygments_lexer": "ipython3",
   "version": "3.13.2"
  }
 },
 "nbformat": 4,
 "nbformat_minor": 5
}
